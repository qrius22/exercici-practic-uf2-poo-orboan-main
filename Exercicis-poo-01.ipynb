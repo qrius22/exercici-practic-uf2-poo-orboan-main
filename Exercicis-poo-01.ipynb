{
 "cells": [
  {
   "cell_type": "markdown",
   "id": "77a3042a-fab7-4a8c-99d4-1c3a94781bb0",
   "metadata": {},
   "source": [
    "# POO amb python"
   ]
  },
  {
   "cell_type": "markdown",
   "id": "36d61823-a391-4d48-ba15-28749abc1aa7",
   "metadata": {},
   "source": [
    "## Exercici 1\n",
    "\n",
    "Fill in the Line class methods to accept coordinates as a pair of tuples and return the slope and distance of the line.\n",
    "\n",
    "```\n",
    "d=√((x_2-x_1)²+(y_2-y_1)²) to find the distance between any two points\n",
    "\n",
    "slope formula: m = (y2 – y1)/(x2 – x1)\n",
    "```"
   ]
  },
  {
   "cell_type": "code",
   "execution_count": 1,
   "id": "c0c0cdc6-4c9c-411a-94a8-87255de34626",
   "metadata": {
    "execution": {
     "iopub.execute_input": "2023-03-13T11:20:25.928223Z",
     "iopub.status.busy": "2023-03-13T11:20:25.927456Z",
     "iopub.status.idle": "2023-03-13T11:20:25.949047Z",
     "shell.execute_reply": "2023-03-13T11:20:25.947098Z",
     "shell.execute_reply.started": "2023-03-13T11:20:25.928153Z"
    },
    "tags": []
   },
   "outputs": [],
   "source": [
    "class Line:\n",
    "    \n",
    "    def __init__(self,coor1,coor2):\n",
    "        pass\n",
    "    \n",
    "    def distance(self):\n",
    "        pass\n",
    "    \n",
    "    def slope(self):\n",
    "        pass"
   ]
  },
  {
   "cell_type": "code",
   "execution_count": 2,
   "id": "5c0927e2-1044-4bc3-a8e3-78af558ce973",
   "metadata": {
    "execution": {
     "iopub.execute_input": "2023-03-13T11:21:41.214942Z",
     "iopub.status.busy": "2023-03-13T11:21:41.214370Z",
     "iopub.status.idle": "2023-03-13T11:21:41.222478Z",
     "shell.execute_reply": "2023-03-13T11:21:41.221209Z",
     "shell.execute_reply.started": "2023-03-13T11:21:41.214892Z"
    },
    "tags": []
   },
   "outputs": [
    {
     "ename": "NameError",
     "evalue": "name 'Line' is not defined",
     "output_type": "error",
     "traceback": [
      "\u001b[1;31m---------------------------------------------------------------------------\u001b[0m",
      "\u001b[1;31mNameError\u001b[0m                                 Traceback (most recent call last)",
      "\u001b[1;32m~\\AppData\\Local\\Temp\\ipykernel_2712\\2824569082.py\u001b[0m in \u001b[0;36m<module>\u001b[1;34m\u001b[0m\n\u001b[0;32m      4\u001b[0m \u001b[0mcoordinate2\u001b[0m \u001b[1;33m=\u001b[0m \u001b[1;33m(\u001b[0m\u001b[1;36m8\u001b[0m\u001b[1;33m,\u001b[0m\u001b[1;36m10\u001b[0m\u001b[1;33m)\u001b[0m\u001b[1;33m\u001b[0m\u001b[1;33m\u001b[0m\u001b[0m\n\u001b[0;32m      5\u001b[0m \u001b[1;33m\u001b[0m\u001b[0m\n\u001b[1;32m----> 6\u001b[1;33m \u001b[0mli\u001b[0m \u001b[1;33m=\u001b[0m \u001b[0mLine\u001b[0m\u001b[1;33m(\u001b[0m\u001b[0mcoordinate1\u001b[0m\u001b[1;33m,\u001b[0m\u001b[0mcoordinate2\u001b[0m\u001b[1;33m)\u001b[0m\u001b[1;33m\u001b[0m\u001b[1;33m\u001b[0m\u001b[0m\n\u001b[0m\u001b[0;32m      7\u001b[0m \u001b[1;33m\u001b[0m\u001b[0m\n\u001b[0;32m      8\u001b[0m \u001b[0mli\u001b[0m\u001b[1;33m.\u001b[0m\u001b[0mdistance\u001b[0m\u001b[1;33m(\u001b[0m\u001b[1;33m)\u001b[0m\u001b[1;33m\u001b[0m\u001b[1;33m\u001b[0m\u001b[0m\n",
      "\u001b[1;31mNameError\u001b[0m: name 'Line' is not defined"
     ]
    }
   ],
   "source": [
    "# EXAMPLE OUTPUT\n",
    "\n",
    "coordinate1 = (3,2)\n",
    "coordinate2 = (8,10)\n",
    "\n",
    "li = Line(coordinate1,coordinate2)\n",
    "\n",
    "li.distance()\n",
    "# 9.433981132056603\n",
    "\n",
    "li.slope()\n",
    "# 1.6"
   ]
  },
  {
   "cell_type": "markdown",
   "id": "eff988cb-915d-428e-ac98-5da89d112ed3",
   "metadata": {},
   "source": [
    "## Exercici 2\n",
    "\n",
    "Fill in the class Cilinder:"
   ]
  },
  {
   "cell_type": "code",
   "execution_count": 3,
   "id": "7cb7aa18-7390-4dfb-95d4-62940e3d985e",
   "metadata": {
    "execution": {
     "iopub.execute_input": "2023-03-13T11:22:55.235022Z",
     "iopub.status.busy": "2023-03-13T11:22:55.234247Z",
     "iopub.status.idle": "2023-03-13T11:22:55.245332Z",
     "shell.execute_reply": "2023-03-13T11:22:55.243494Z",
     "shell.execute_reply.started": "2023-03-13T11:22:55.234955Z"
    },
    "tags": []
   },
   "outputs": [],
   "source": [
    "class Cylinder:\n",
    "    \n",
    "    def __init__(self,height=1,radius=1):\n",
    "        pass\n",
    "        \n",
    "    def volume(self):\n",
    "        pass\n",
    "    \n",
    "    def surface_area(self):\n",
    "        pass"
   ]
  },
  {
   "cell_type": "code",
   "execution_count": 4,
   "id": "21f0368b-3178-4b68-a064-14fb3c4eea52",
   "metadata": {
    "execution": {
     "iopub.execute_input": "2023-03-13T11:23:42.555375Z",
     "iopub.status.busy": "2023-03-13T11:23:42.554610Z",
     "iopub.status.idle": "2023-03-13T11:23:42.565104Z",
     "shell.execute_reply": "2023-03-13T11:23:42.563164Z",
     "shell.execute_reply.started": "2023-03-13T11:23:42.555307Z"
    },
    "tags": []
   },
   "outputs": [],
   "source": [
    "# EXAMPLE OUTPUT\n",
    "c = Cylinder(2,3)\n",
    "\n",
    "c.volume()\n",
    "# 56.52\n",
    "\n",
    "c.surface_area()\n",
    "# 94.2"
   ]
  },
  {
   "cell_type": "code",
   "execution_count": null,
   "id": "dec791d8-bd3e-42cb-a4d3-9a02f0575693",
   "metadata": {},
   "outputs": [],
   "source": []
  }
 ],
 "metadata": {
  "kernelspec": {
   "display_name": "Python 3",
   "language": "python",
   "name": "python3"
  },
  "language_info": {
   "codemirror_mode": {
    "name": "ipython",
    "version": 3
   },
   "file_extension": ".py",
   "mimetype": "text/x-python",
   "name": "python",
   "nbconvert_exporter": "python",
   "pygments_lexer": "ipython3",
   "version": "3.7.3"
  },
  "vscode": {
   "interpreter": {
    "hash": "bb480d8afc6d8919f189698c84f360c70ebe6aa4f7a48880ea75850b77998fbc"
   }
  }
 },
 "nbformat": 4,
 "nbformat_minor": 5
}
