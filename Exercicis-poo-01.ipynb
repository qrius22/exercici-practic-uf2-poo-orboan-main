{
 "cells": [
  {
   "cell_type": "markdown",
   "id": "77a3042a-fab7-4a8c-99d4-1c3a94781bb0",
   "metadata": {},
   "source": [
    "# POO amb python"
   ]
  },
  {
   "cell_type": "markdown",
   "id": "36d61823-a391-4d48-ba15-28749abc1aa7",
   "metadata": {},
   "source": [
    "## Exercici 1\n",
    "\n",
    "Fill in the Line class methods to accept coordinates as a pair of tuples and return the slope and distance of the line.\n",
    "\n",
    "```\n",
    "d=√((x_2-x_1)²+(y_2-y_1)²) to find the distance between any two points\n",
    "\n",
    "slope formula: m = (y2 – y1)/(x2 – x1)\n",
    "```"
   ]
  },
  {
   "cell_type": "code",
   "execution_count": 1,
   "id": "c0c0cdc6-4c9c-411a-94a8-87255de34626",
   "metadata": {
    "execution": {
     "iopub.execute_input": "2023-03-13T11:20:25.928223Z",
     "iopub.status.busy": "2023-03-13T11:20:25.927456Z",
     "iopub.status.idle": "2023-03-13T11:20:25.949047Z",
     "shell.execute_reply": "2023-03-13T11:20:25.947098Z",
     "shell.execute_reply.started": "2023-03-13T11:20:25.928153Z"
    },
    "tags": []
   },
   "outputs": [],
   "source": [
    "class Line:\n",
    "    \n",
    "    def __init__(self, coor1, coor2):\n",
    "        self.coor1 = coor1\n",
    "        self.coor2 = coor2\n",
    "        \n",
    "    def distance(self):\n",
    "        x1, y1 = self.coor1\n",
    "        x2, y2 = self.coor2\n",
    "        return ((x2 - x1)**2 + (y2 - y1)**2)**0.5\n",
    "    \n",
    "    def slope(self):\n",
    "        x1, y1 = self.coor1\n",
    "        x2, y2 = self.coor2\n",
    "        return (y2 - y1) / (x2 - x1)"
   ]
  },
  {
   "cell_type": "code",
   "execution_count": 2,
   "id": "5c0927e2-1044-4bc3-a8e3-78af558ce973",
   "metadata": {
    "execution": {
     "iopub.execute_input": "2023-03-13T11:21:41.214942Z",
     "iopub.status.busy": "2023-03-13T11:21:41.214370Z",
     "iopub.status.idle": "2023-03-13T11:21:41.222478Z",
     "shell.execute_reply": "2023-03-13T11:21:41.221209Z",
     "shell.execute_reply.started": "2023-03-13T11:21:41.214892Z"
    },
    "tags": []
   },
   "outputs": [],
   "source": [
    "coordinate1 = (3, 2)\n",
    "coordinate2 = (8, 10)\n",
    "\n",
    "li = Line(coordinate1, coordinate2)\n",
    "\n",
    "print(li.distance())  # 9.433981132056603\n",
    "print(li.slope())     # 1.6"
   ]
  },
  {
   "cell_type": "markdown",
   "id": "eff988cb-915d-428e-ac98-5da89d112ed3",
   "metadata": {},
   "source": [
    "## Exercici 2\n",
    "\n",
    "Fill in the class Cilinder:"
   ]
  },
  {
   "cell_type": "code",
   "execution_count": 1,
   "id": "7cb7aa18-7390-4dfb-95d4-62940e3d985e",
   "metadata": {
    "execution": {
     "iopub.execute_input": "2023-03-13T11:22:55.235022Z",
     "iopub.status.busy": "2023-03-13T11:22:55.234247Z",
     "iopub.status.idle": "2023-03-13T11:22:55.245332Z",
     "shell.execute_reply": "2023-03-13T11:22:55.243494Z",
     "shell.execute_reply.started": "2023-03-13T11:22:55.234955Z"
    },
    "tags": []
   },
   "outputs": [],
   "source": [
    "class Cylinder:\n",
    "    \n",
    "    def __init__(self, height=1, radius=1):\n",
    "        self.height = height\n",
    "        self.radius = radius\n",
    "        \n",
    "    def volume(self):\n",
    "        return self.height * 3.14159 * self.radius**2\n",
    "    \n",
    "    def surface_area(self):\n",
    "        return 2 * 3.14159 * self.radius * (self.radius + self.height)"
   ]
  },
  {
   "cell_type": "code",
   "execution_count": 4,
   "id": "21f0368b-3178-4b68-a064-14fb3c4eea52",
   "metadata": {
    "execution": {
     "iopub.execute_input": "2023-03-13T11:23:42.555375Z",
     "iopub.status.busy": "2023-03-13T11:23:42.554610Z",
     "iopub.status.idle": "2023-03-13T11:23:42.565104Z",
     "shell.execute_reply": "2023-03-13T11:23:42.563164Z",
     "shell.execute_reply.started": "2023-03-13T11:23:42.555307Z"
    },
    "tags": []
   },
   "outputs": [],
   "source": [
    "c = Cylinder(2, 3)\n",
    "\n",
    "print(c.volume())        # 56.548668737\n",
    "print(c.surface_area())  # 94.2477796077"
   ]
  },
  {
   "cell_type": "code",
   "execution_count": null,
   "id": "dec791d8-bd3e-42cb-a4d3-9a02f0575693",
   "metadata": {},
   "outputs": [],
   "source": []
  }
 ],
 "metadata": {
  "kernelspec": {
   "display_name": "base",
   "language": "python",
   "name": "python3"
  },
  "language_info": {
   "codemirror_mode": {
    "name": "ipython",
    "version": 3
   },
   "file_extension": ".py",
   "mimetype": "text/x-python",
   "name": "python",
   "nbconvert_exporter": "python",
   "pygments_lexer": "ipython3",
   "version": "3.7.4"
  },
  "vscode": {
   "interpreter": {
    "hash": "ad2bdc8ecc057115af97d19610ffacc2b4e99fae6737bb82f5d7fb13d2f2c186"
   }
  }
 },
 "nbformat": 4,
 "nbformat_minor": 5
}
