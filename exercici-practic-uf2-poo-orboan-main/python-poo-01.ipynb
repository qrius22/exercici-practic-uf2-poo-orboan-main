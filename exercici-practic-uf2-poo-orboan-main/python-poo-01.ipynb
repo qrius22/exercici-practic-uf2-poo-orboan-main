{
 "cells": [
  {
   "cell_type": "markdown",
   "id": "467c40fc-8262-48fc-918b-7f30bd115d9b",
   "metadata": {},
   "source": [
    "## Python - POO 1"
   ]
  },
  {
   "cell_type": "code",
   "execution_count": 1,
   "id": "8461e314-3468-4402-b227-49fdb9bf573e",
   "metadata": {
    "execution": {
     "iopub.execute_input": "2023-03-07T09:53:12.024241Z",
     "iopub.status.busy": "2023-03-07T09:53:12.023472Z",
     "iopub.status.idle": "2023-03-07T09:53:12.043883Z",
     "shell.execute_reply": "2023-03-07T09:53:12.041934Z",
     "shell.execute_reply.started": "2023-03-07T09:53:12.024170Z"
    },
    "tags": []
   },
   "outputs": [],
   "source": [
    "class Magdalena:\n",
    "    pass"
   ]
  },
  {
   "cell_type": "code",
   "execution_count": 2,
   "id": "c1e48dc4-84f6-4315-9efe-8311541e725d",
   "metadata": {
    "execution": {
     "iopub.execute_input": "2023-03-07T09:54:06.664941Z",
     "iopub.status.busy": "2023-03-07T09:54:06.664188Z",
     "iopub.status.idle": "2023-03-07T09:54:06.673818Z",
     "shell.execute_reply": "2023-03-07T09:54:06.671765Z",
     "shell.execute_reply.started": "2023-03-07T09:54:06.664875Z"
    },
    "tags": []
   },
   "outputs": [],
   "source": [
    "## Instanciació\n",
    "magdalena_1 = Magdalena()"
   ]
  },
  {
   "cell_type": "code",
   "execution_count": 3,
   "id": "1eb8dcec-fa0d-4a18-a52a-20c21bd0135a",
   "metadata": {
    "execution": {
     "iopub.execute_input": "2023-03-07T09:54:40.609050Z",
     "iopub.status.busy": "2023-03-07T09:54:40.608495Z",
     "iopub.status.idle": "2023-03-07T09:54:40.626359Z",
     "shell.execute_reply": "2023-03-07T09:54:40.624622Z",
     "shell.execute_reply.started": "2023-03-07T09:54:40.609003Z"
    },
    "tags": []
   },
   "outputs": [
    {
     "data": {
      "text/plain": [
       "__main__.Magdalena"
      ]
     },
     "execution_count": 3,
     "metadata": {},
     "output_type": "execute_result"
    }
   ],
   "source": [
    "type(magdalena_1)"
   ]
  },
  {
   "cell_type": "code",
   "execution_count": 5,
   "id": "b4961c15-5e78-46bc-a594-889afedfcc90",
   "metadata": {
    "execution": {
     "iopub.execute_input": "2023-03-07T09:56:24.735227Z",
     "iopub.status.busy": "2023-03-07T09:56:24.734439Z",
     "iopub.status.idle": "2023-03-07T09:56:24.745750Z",
     "shell.execute_reply": "2023-03-07T09:56:24.743885Z",
     "shell.execute_reply.started": "2023-03-07T09:56:24.735159Z"
    },
    "tags": []
   },
   "outputs": [
    {
     "name": "stdout",
     "output_type": "stream",
     "text": [
      "magdalena_1 és una Magdalena\n"
     ]
    }
   ],
   "source": [
    "if isinstance(magdalena_1, Magdalena) == True:\n",
    "    print(\"magdalena_1 és una Magdalena\")\n",
    "else:\n",
    "    print(\"magdalena_1 No és una Magdalena\")"
   ]
  },
  {
   "cell_type": "code",
   "execution_count": 6,
   "id": "4b449dfa-737f-4470-86de-306e03fd8e6c",
   "metadata": {
    "execution": {
     "iopub.execute_input": "2023-03-07T09:56:41.548345Z",
     "iopub.status.busy": "2023-03-07T09:56:41.547608Z",
     "iopub.status.idle": "2023-03-07T09:56:41.557231Z",
     "shell.execute_reply": "2023-03-07T09:56:41.554970Z",
     "shell.execute_reply.started": "2023-03-07T09:56:41.548278Z"
    },
    "tags": []
   },
   "outputs": [],
   "source": [
    "class Galeta:\n",
    "    pass"
   ]
  },
  {
   "cell_type": "code",
   "execution_count": 7,
   "id": "9cf20558-a97f-4177-aeea-85cb42337a17",
   "metadata": {
    "execution": {
     "iopub.execute_input": "2023-03-07T09:57:00.764193Z",
     "iopub.status.busy": "2023-03-07T09:57:00.763371Z",
     "iopub.status.idle": "2023-03-07T09:57:00.772779Z",
     "shell.execute_reply": "2023-03-07T09:57:00.770784Z",
     "shell.execute_reply.started": "2023-03-07T09:57:00.764111Z"
    },
    "tags": []
   },
   "outputs": [],
   "source": [
    "maria_1 = Galeta()"
   ]
  },
  {
   "cell_type": "code",
   "execution_count": 9,
   "id": "15323015-6eeb-4026-aab4-15d072c65043",
   "metadata": {
    "execution": {
     "iopub.execute_input": "2023-03-07T09:57:26.833902Z",
     "iopub.status.busy": "2023-03-07T09:57:26.833085Z",
     "iopub.status.idle": "2023-03-07T09:57:26.845964Z",
     "shell.execute_reply": "2023-03-07T09:57:26.844016Z",
     "shell.execute_reply.started": "2023-03-07T09:57:26.833834Z"
    },
    "tags": []
   },
   "outputs": [
    {
     "data": {
      "text/plain": [
       "False"
      ]
     },
     "execution_count": 9,
     "metadata": {},
     "output_type": "execute_result"
    }
   ],
   "source": [
    "isinstance(maria_1, Magdalena)"
   ]
  },
  {
   "cell_type": "markdown",
   "id": "7be3c5f0-858b-4487-9026-81ed5bf96b71",
   "metadata": {},
   "source": [
    "### Atributs"
   ]
  },
  {
   "cell_type": "code",
   "execution_count": 10,
   "id": "3589ab84-33ed-4508-ae6e-fc25aa47e279",
   "metadata": {
    "execution": {
     "iopub.execute_input": "2023-03-07T09:59:10.309790Z",
     "iopub.status.busy": "2023-03-07T09:59:10.308823Z",
     "iopub.status.idle": "2023-03-07T09:59:10.318169Z",
     "shell.execute_reply": "2023-03-07T09:59:10.316325Z",
     "shell.execute_reply.started": "2023-03-07T09:59:10.309722Z"
    },
    "tags": []
   },
   "outputs": [],
   "source": [
    "class Pastis:\n",
    "    pass"
   ]
  },
  {
   "cell_type": "code",
   "execution_count": 1,
   "id": "85ec6503-0a6a-41a1-95e8-4b6a088be5d2",
   "metadata": {
    "execution": {
     "iopub.execute_input": "2023-03-07T09:59:55.662596Z",
     "iopub.status.busy": "2023-03-07T09:59:55.661837Z",
     "iopub.status.idle": "2023-03-07T09:59:56.015808Z",
     "shell.execute_reply": "2023-03-07T09:59:56.013992Z",
     "shell.execute_reply.started": "2023-03-07T09:59:55.662530Z"
    },
    "tags": []
   },
   "outputs": [
    {
     "ename": "NameError",
     "evalue": "name 'Pastis' is not defined",
     "output_type": "error",
     "traceback": [
      "\u001b[1;31m---------------------------------------------------------------------------\u001b[0m",
      "\u001b[1;31mNameError\u001b[0m                                 Traceback (most recent call last)",
      "\u001b[1;32m~\\AppData\\Local\\Temp\\ipykernel_4764\\3405215368.py\u001b[0m in \u001b[0;36m<module>\u001b[1;34m\u001b[0m\n\u001b[0;32m      1\u001b[0m \u001b[1;31m## Instanciació\u001b[0m\u001b[1;33m\u001b[0m\u001b[1;33m\u001b[0m\u001b[1;33m\u001b[0m\u001b[0m\n\u001b[0;32m      2\u001b[0m \u001b[0mpes\u001b[0m \u001b[1;33m=\u001b[0m \u001b[1;36m150\u001b[0m \u001b[1;31m#grams\u001b[0m\u001b[1;33m\u001b[0m\u001b[1;33m\u001b[0m\u001b[0m\n\u001b[1;32m----> 3\u001b[1;33m \u001b[0mpastis_1\u001b[0m \u001b[1;33m=\u001b[0m \u001b[0mPastis\u001b[0m\u001b[1;33m(\u001b[0m\u001b[0mpes\u001b[0m\u001b[1;33m)\u001b[0m\u001b[1;33m\u001b[0m\u001b[1;33m\u001b[0m\u001b[0m\n\u001b[0m",
      "\u001b[1;31mNameError\u001b[0m: name 'Pastis' is not defined"
     ]
    }
   ],
   "source": [
    "## Instanciació\n",
    "pes = 150 #grams\n",
    "pastis_1 = Pastis(pes)"
   ]
  },
  {
   "cell_type": "code",
   "execution_count": 47,
   "id": "11a3ba87-a37b-429d-abdd-d6f36184a90f",
   "metadata": {
    "execution": {
     "iopub.execute_input": "2023-03-07T10:29:42.617840Z",
     "iopub.status.busy": "2023-03-07T10:29:42.617216Z",
     "iopub.status.idle": "2023-03-07T10:29:42.625394Z",
     "shell.execute_reply": "2023-03-07T10:29:42.623911Z",
     "shell.execute_reply.started": "2023-03-07T10:29:42.617785Z"
    },
    "tags": []
   },
   "outputs": [],
   "source": [
    "class Pastis:\n",
    "    #Constructor\n",
    "    def __init__(self, pes = 50):\n",
    "        self.pes = pes #creació de l'atribut pes"
   ]
  },
  {
   "cell_type": "code",
   "execution_count": 48,
   "id": "4462e083-9d7f-4bba-a77a-3a81f29e2f34",
   "metadata": {
    "execution": {
     "iopub.execute_input": "2023-03-07T10:29:46.123717Z",
     "iopub.status.busy": "2023-03-07T10:29:46.122961Z",
     "iopub.status.idle": "2023-03-07T10:29:46.133003Z",
     "shell.execute_reply": "2023-03-07T10:29:46.131079Z",
     "shell.execute_reply.started": "2023-03-07T10:29:46.123651Z"
    },
    "tags": []
   },
   "outputs": [],
   "source": [
    "## Instanciació\n",
    "pes = 150 #grams\n",
    "pastis_2 = Pastis(pes)\n",
    "pastis_3 = Pastis(200)\n",
    "pastis_4 = Pastis()"
   ]
  },
  {
   "cell_type": "code",
   "execution_count": 49,
   "id": "22705d61-a669-4b0b-a4db-1453d8470455",
   "metadata": {
    "execution": {
     "iopub.execute_input": "2023-03-07T10:29:46.618094Z",
     "iopub.status.busy": "2023-03-07T10:29:46.617480Z",
     "iopub.status.idle": "2023-03-07T10:29:46.627896Z",
     "shell.execute_reply": "2023-03-07T10:29:46.626074Z",
     "shell.execute_reply.started": "2023-03-07T10:29:46.618033Z"
    },
    "tags": []
   },
   "outputs": [
    {
     "name": "stdout",
     "output_type": "stream",
     "text": [
      "150\n",
      "200\n",
      "50\n"
     ]
    }
   ],
   "source": [
    "print(pastis_2.pes)\n",
    "print(pastis_3.pes)\n",
    "print(pastis_4.pes)"
   ]
  },
  {
   "cell_type": "code",
   "execution_count": 50,
   "id": "88f02787-40a2-4455-be47-cfc9d591831f",
   "metadata": {
    "execution": {
     "iopub.execute_input": "2023-03-07T10:29:50.475087Z",
     "iopub.status.busy": "2023-03-07T10:29:50.474338Z",
     "iopub.status.idle": "2023-03-07T10:29:50.484409Z",
     "shell.execute_reply": "2023-03-07T10:29:50.482532Z",
     "shell.execute_reply.started": "2023-03-07T10:29:50.475020Z"
    },
    "tags": []
   },
   "outputs": [],
   "source": [
    "class Pastis:\n",
    "    def __init__(self, pes, xocolata = False):\n",
    "        self.pes = pes\n",
    "        self.xocolata = xocolata"
   ]
  },
  {
   "cell_type": "code",
   "execution_count": 51,
   "id": "b065bf57-0864-4e39-bb48-038c79925a73",
   "metadata": {
    "execution": {
     "iopub.execute_input": "2023-03-07T10:29:51.568915Z",
     "iopub.status.busy": "2023-03-07T10:29:51.568229Z",
     "iopub.status.idle": "2023-03-07T10:29:51.582782Z",
     "shell.execute_reply": "2023-03-07T10:29:51.580761Z",
     "shell.execute_reply.started": "2023-03-07T10:29:51.568851Z"
    },
    "tags": []
   },
   "outputs": [
    {
     "name": "stdout",
     "output_type": "stream",
     "text": [
      "Xocolata!\n",
      "200\n",
      "pastis_xocolata és de xocolata? True\n"
     ]
    }
   ],
   "source": [
    "pastis_2 = Pastis(pes)\n",
    "pastis_3 = Pastis(200)\n",
    "pastis_xocolata = Pastis(200, True)\n",
    "\n",
    "bossa = list()\n",
    "bossa.append(pastis_2)\n",
    "bossa.append(pastis_3)\n",
    "bossa.append(pastis_xocolata)\n",
    "\n",
    "for pastis in bossa:\n",
    "    if pastis.xocolata == True:\n",
    "        print(\"Xocolata!\")\n",
    "\n",
    "print(pastis_xocolata.pes)\n",
    "print(f\"pastis_xocolata és de xocolata? {pastis_xocolata.xocolata}\")"
   ]
  },
  {
   "cell_type": "markdown",
   "id": "2f4d7cb1-d352-4383-b3cc-88fac95f638e",
   "metadata": {},
   "source": [
    "#### Escriptura d'atributs - Encapsulació"
   ]
  },
  {
   "cell_type": "code",
   "execution_count": 52,
   "id": "eff8428d-7fbd-404d-bc25-6ee1e0e8e0bf",
   "metadata": {
    "execution": {
     "iopub.execute_input": "2023-03-07T10:29:55.884189Z",
     "iopub.status.busy": "2023-03-07T10:29:55.883441Z",
     "iopub.status.idle": "2023-03-07T10:29:55.892334Z",
     "shell.execute_reply": "2023-03-07T10:29:55.890646Z",
     "shell.execute_reply.started": "2023-03-07T10:29:55.884121Z"
    },
    "tags": []
   },
   "outputs": [
    {
     "name": "stdout",
     "output_type": "stream",
     "text": [
      "150\n",
      "300\n"
     ]
    }
   ],
   "source": [
    "print(pastis_2.pes)\n",
    "pastis_2.pes = 300\n",
    "print(pastis_2.pes)"
   ]
  },
  {
   "cell_type": "code",
   "execution_count": 53,
   "id": "2cf3cf4b-ad68-4a43-a00c-c4ca43f2cebc",
   "metadata": {
    "execution": {
     "iopub.execute_input": "2023-03-07T10:29:57.069303Z",
     "iopub.status.busy": "2023-03-07T10:29:57.068487Z",
     "iopub.status.idle": "2023-03-07T10:29:57.080339Z",
     "shell.execute_reply": "2023-03-07T10:29:57.077743Z",
     "shell.execute_reply.started": "2023-03-07T10:29:57.069249Z"
    },
    "tags": []
   },
   "outputs": [
    {
     "name": "stdout",
     "output_type": "stream",
     "text": [
      "-50\n"
     ]
    }
   ],
   "source": [
    "pastis_2.pes = -50 #valor invàlid\n",
    "print(pastis_2.pes)"
   ]
  },
  {
   "cell_type": "code",
   "execution_count": 54,
   "id": "fa99ee80-6f70-405f-967f-6a3d8b6dbb63",
   "metadata": {
    "execution": {
     "iopub.execute_input": "2023-03-07T10:30:03.214799Z",
     "iopub.status.busy": "2023-03-07T10:30:03.213827Z",
     "iopub.status.idle": "2023-03-07T10:30:03.224714Z",
     "shell.execute_reply": "2023-03-07T10:30:03.222805Z",
     "shell.execute_reply.started": "2023-03-07T10:30:03.214730Z"
    },
    "tags": []
   },
   "outputs": [],
   "source": [
    "#Encapsulació: protegim els atributs\n",
    "class Pastis:\n",
    "    def __init__(self, pes, xocolata = False):\n",
    "        self.__pes = pes #privat\n",
    "        self.__xocolata = xocolata #privat"
   ]
  },
  {
   "cell_type": "markdown",
   "id": "cf543102-9abc-47b2-aac4-f8e0767be84c",
   "metadata": {},
   "source": [
    "#### Atributs privats i semi privats"
   ]
  },
  {
   "cell_type": "code",
   "execution_count": 55,
   "id": "b1abbc12-188b-4a60-87fd-89d2d0cc8e2a",
   "metadata": {
    "execution": {
     "iopub.execute_input": "2023-03-07T10:30:04.599908Z",
     "iopub.status.busy": "2023-03-07T10:30:04.599153Z",
     "iopub.status.idle": "2023-03-07T10:30:04.641758Z",
     "shell.execute_reply": "2023-03-07T10:30:04.639465Z",
     "shell.execute_reply.started": "2023-03-07T10:30:04.599841Z"
    },
    "tags": []
   },
   "outputs": [
    {
     "ename": "AttributeError",
     "evalue": "'MyClass' object has no attribute '__superprivate'",
     "output_type": "error",
     "traceback": [
      "\u001b[0;31m---------------------------------------------------------------------------\u001b[0m",
      "\u001b[0;31mAttributeError\u001b[0m                            Traceback (most recent call last)",
      "Cell \u001b[0;32mIn[55], line 7\u001b[0m\n\u001b[1;32m      4\u001b[0m              \u001b[38;5;28mself\u001b[39m\u001b[38;5;241m.\u001b[39m_semiprivate \u001b[38;5;241m=\u001b[39m \u001b[38;5;124m\"\u001b[39m\u001b[38;5;124m, world!\u001b[39m\u001b[38;5;124m\"\u001b[39m\n\u001b[1;32m      6\u001b[0m mc \u001b[38;5;241m=\u001b[39m MyClass()\n\u001b[0;32m----> 7\u001b[0m \u001b[38;5;28mprint\u001b[39m(\u001b[43mmc\u001b[49m\u001b[38;5;241;43m.\u001b[39;49m\u001b[43m__superprivate\u001b[49m)\n",
      "\u001b[0;31mAttributeError\u001b[0m: 'MyClass' object has no attribute '__superprivate'"
     ]
    }
   ],
   "source": [
    "class MyClass():\n",
    "     def __init__(self):\n",
    "             self.__superprivate = \"Hello\"\n",
    "             self._semiprivate = \", world!\"\n",
    "\n",
    "mc = MyClass()\n",
    "print(mc.__superprivate)\n"
   ]
  },
  {
   "cell_type": "code",
   "execution_count": 56,
   "id": "5d4b8e57-4127-4dc8-b914-57ffd46ae7fd",
   "metadata": {
    "execution": {
     "iopub.execute_input": "2023-03-07T10:30:05.005312Z",
     "iopub.status.busy": "2023-03-07T10:30:05.004628Z",
     "iopub.status.idle": "2023-03-07T10:30:05.014466Z",
     "shell.execute_reply": "2023-03-07T10:30:05.012715Z",
     "shell.execute_reply.started": "2023-03-07T10:30:05.005255Z"
    },
    "tags": []
   },
   "outputs": [
    {
     "name": "stdout",
     "output_type": "stream",
     "text": [
      ", world!\n",
      "{'_MyClass__superprivate': 'Hello', '_semiprivate': ', world!'}\n"
     ]
    }
   ],
   "source": [
    "print(mc._semiprivate)\n",
    "print(mc.__dict__)"
   ]
  },
  {
   "cell_type": "markdown",
   "id": "aff2f5ca-16c7-4efa-afa0-859dc11b8f70",
   "metadata": {
    "execution": {
     "iopub.execute_input": "2023-03-07T15:43:27.413457Z",
     "iopub.status.busy": "2023-03-07T15:43:27.412483Z",
     "iopub.status.idle": "2023-03-07T15:43:27.421194Z",
     "shell.execute_reply": "2023-03-07T15:43:27.419329Z",
     "shell.execute_reply.started": "2023-03-07T15:43:27.413389Z"
    }
   },
   "source": [
    "***"
   ]
  },
  {
   "cell_type": "code",
   "execution_count": 70,
   "id": "8aabff54-f349-4f9c-b563-f5330cae8c60",
   "metadata": {
    "execution": {
     "iopub.execute_input": "2023-03-08T12:02:54.249943Z",
     "iopub.status.busy": "2023-03-08T12:02:54.248965Z",
     "iopub.status.idle": "2023-03-08T12:02:54.259964Z",
     "shell.execute_reply": "2023-03-08T12:02:54.258325Z",
     "shell.execute_reply.started": "2023-03-08T12:02:54.249875Z"
    },
    "tags": []
   },
   "outputs": [],
   "source": [
    "#Encapsulació: protegim els atributs\n",
    "class Pastis:\n",
    "    def __init__(self, pes, xocolata = False):\n",
    "        self.__pes = pes #privat\n",
    "        self.__xocolata = xocolata #privat\n",
    "        \n",
    "    @property #getter (lectura)\n",
    "    def pes(self):\n",
    "        return self.__pes"
   ]
  },
  {
   "cell_type": "code",
   "execution_count": 71,
   "id": "467580d1-2e03-4224-aaab-065d2ef468e7",
   "metadata": {
    "execution": {
     "iopub.execute_input": "2023-03-08T12:02:56.386478Z",
     "iopub.status.busy": "2023-03-08T12:02:56.385724Z",
     "iopub.status.idle": "2023-03-08T12:02:56.396495Z",
     "shell.execute_reply": "2023-03-08T12:02:56.394681Z",
     "shell.execute_reply.started": "2023-03-08T12:02:56.386411Z"
    },
    "tags": []
   },
   "outputs": [
    {
     "name": "stdout",
     "output_type": "stream",
     "text": [
      "500\n",
      "500\n"
     ]
    }
   ],
   "source": [
    "pastis_gran = Pastis(500)\n",
    "\n",
    "#print(pastis_gran.pes)\n",
    "#print(pastis_gran.__pes)\n",
    "print(pastis_gran._Pastis__pes)\n",
    "#print(pastis_gran.pes())\n",
    "print(pastis_gran.pes) ## Accés a l'atribut"
   ]
  },
  {
   "cell_type": "markdown",
   "id": "5c95c588-ddee-47eb-99f1-5a62cb86b05b",
   "metadata": {
    "execution": {
     "iopub.execute_input": "2023-03-08T12:00:18.173300Z",
     "iopub.status.busy": "2023-03-08T12:00:18.172500Z",
     "iopub.status.idle": "2023-03-08T12:00:18.179977Z",
     "shell.execute_reply": "2023-03-08T12:00:18.178548Z",
     "shell.execute_reply.started": "2023-03-08T12:00:18.173231Z"
    }
   },
   "source": [
    "#### Encapsulació: Evitar valors invàlids"
   ]
  },
  {
   "cell_type": "code",
   "execution_count": 72,
   "id": "6a8a01b8-f3a5-48a1-a421-b0779bd194ce",
   "metadata": {
    "execution": {
     "iopub.execute_input": "2023-03-08T12:03:37.502765Z",
     "iopub.status.busy": "2023-03-08T12:03:37.502022Z",
     "iopub.status.idle": "2023-03-08T12:03:37.537212Z",
     "shell.execute_reply": "2023-03-08T12:03:37.535201Z",
     "shell.execute_reply.started": "2023-03-08T12:03:37.502699Z"
    },
    "tags": []
   },
   "outputs": [
    {
     "ename": "AttributeError",
     "evalue": "can't set attribute 'pes'",
     "output_type": "error",
     "traceback": [
      "\u001b[0;31m---------------------------------------------------------------------------\u001b[0m",
      "\u001b[0;31mAttributeError\u001b[0m                            Traceback (most recent call last)",
      "Cell \u001b[0;32mIn[72], line 1\u001b[0m\n\u001b[0;32m----> 1\u001b[0m \u001b[43mpastis_gran\u001b[49m\u001b[38;5;241;43m.\u001b[39;49m\u001b[43mpes\u001b[49m \u001b[38;5;241m=\u001b[39m \u001b[38;5;241m1000\u001b[39m\n",
      "\u001b[0;31mAttributeError\u001b[0m: can't set attribute 'pes'"
     ]
    }
   ],
   "source": [
    "pastis_gran.pes = 1000"
   ]
  },
  {
   "cell_type": "code",
   "execution_count": 79,
   "id": "55c5a2a2-a194-46fe-984a-b9d5286abbb5",
   "metadata": {
    "execution": {
     "iopub.execute_input": "2023-03-08T12:08:19.215196Z",
     "iopub.status.busy": "2023-03-08T12:08:19.214388Z",
     "iopub.status.idle": "2023-03-08T12:08:19.227166Z",
     "shell.execute_reply": "2023-03-08T12:08:19.225398Z",
     "shell.execute_reply.started": "2023-03-08T12:08:19.215127Z"
    },
    "tags": []
   },
   "outputs": [],
   "source": [
    "## He de crear un setter\n",
    "#Encapsulació: protegim els atributs\n",
    "class Pastis:\n",
    "    def __init__(self, pes, xocolata = False):\n",
    "        self.__pes = pes #privat\n",
    "        self.__xocolata = xocolata #privat\n",
    "        \n",
    "    @property #getter (lectura)\n",
    "    def pes(self):\n",
    "        return self.__pes\n",
    "    \n",
    "    @pes.setter #setter (escriptura)\n",
    "    def pes(self, value):\n",
    "        if value > 0:\n",
    "            self.__pes = value"
   ]
  },
  {
   "cell_type": "code",
   "execution_count": 80,
   "id": "20d59191-8836-41bd-9251-8ae302def2e7",
   "metadata": {
    "execution": {
     "iopub.execute_input": "2023-03-08T12:08:22.305945Z",
     "iopub.status.busy": "2023-03-08T12:08:22.304930Z",
     "iopub.status.idle": "2023-03-08T12:08:22.316958Z",
     "shell.execute_reply": "2023-03-08T12:08:22.315055Z",
     "shell.execute_reply.started": "2023-03-08T12:08:22.305877Z"
    },
    "tags": []
   },
   "outputs": [
    {
     "name": "stdout",
     "output_type": "stream",
     "text": [
      "200\n",
      "200\n"
     ]
    }
   ],
   "source": [
    "cake = Pastis(200)\n",
    "print(cake.pes)\n",
    "cake.pes = -50\n",
    "print(cake.pes)"
   ]
  },
  {
   "cell_type": "code",
   "execution_count": 81,
   "id": "18a3924c-d896-4fc6-9554-87dbaf7e11cc",
   "metadata": {
    "execution": {
     "iopub.execute_input": "2023-03-08T12:12:48.688062Z",
     "iopub.status.busy": "2023-03-08T12:12:48.687323Z",
     "iopub.status.idle": "2023-03-08T12:12:48.700381Z",
     "shell.execute_reply": "2023-03-08T12:12:48.698835Z",
     "shell.execute_reply.started": "2023-03-08T12:12:48.687996Z"
    },
    "tags": []
   },
   "outputs": [
    {
     "data": {
      "text/plain": [
       "['_Pastis__pes',\n",
       " '_Pastis__xocolata',\n",
       " '__class__',\n",
       " '__delattr__',\n",
       " '__dict__',\n",
       " '__dir__',\n",
       " '__doc__',\n",
       " '__eq__',\n",
       " '__format__',\n",
       " '__ge__',\n",
       " '__getattribute__',\n",
       " '__gt__',\n",
       " '__hash__',\n",
       " '__init__',\n",
       " '__init_subclass__',\n",
       " '__le__',\n",
       " '__lt__',\n",
       " '__module__',\n",
       " '__ne__',\n",
       " '__new__',\n",
       " '__reduce__',\n",
       " '__reduce_ex__',\n",
       " '__repr__',\n",
       " '__setattr__',\n",
       " '__sizeof__',\n",
       " '__str__',\n",
       " '__subclasshook__',\n",
       " '__weakref__',\n",
       " 'pes']"
      ]
     },
     "execution_count": 81,
     "metadata": {},
     "output_type": "execute_result"
    }
   ],
   "source": [
    "dir(cake)"
   ]
  },
  {
   "cell_type": "markdown",
   "id": "81668612-6b16-4614-8dd3-cb460390d7da",
   "metadata": {},
   "source": [
    "### Atributs creats fora de la classe (per objecte) !!! \n",
    "#### NO RECOMANABLE"
   ]
  },
  {
   "cell_type": "code",
   "execution_count": 82,
   "id": "18e21ecd-507a-46a2-ba42-e0fc0138ef46",
   "metadata": {
    "execution": {
     "iopub.execute_input": "2023-03-08T12:16:38.356748Z",
     "iopub.status.busy": "2023-03-08T12:16:38.356007Z",
     "iopub.status.idle": "2023-03-08T12:16:38.365673Z",
     "shell.execute_reply": "2023-03-08T12:16:38.363621Z",
     "shell.execute_reply.started": "2023-03-08T12:16:38.356683Z"
    },
    "tags": []
   },
   "outputs": [],
   "source": [
    "cake2 = Pastis(100)"
   ]
  },
  {
   "cell_type": "code",
   "execution_count": 88,
   "id": "49e97b27-3beb-4774-8f7d-8b5a50406789",
   "metadata": {
    "execution": {
     "iopub.execute_input": "2023-03-08T12:20:09.548548Z",
     "iopub.status.busy": "2023-03-08T12:20:09.547839Z",
     "iopub.status.idle": "2023-03-08T12:20:09.563092Z",
     "shell.execute_reply": "2023-03-08T12:20:09.560948Z",
     "shell.execute_reply.started": "2023-03-08T12:20:09.548480Z"
    },
    "tags": []
   },
   "outputs": [
    {
     "data": {
      "text/plain": [
       "['_Pastis__pes',\n",
       " '_Pastis__xocolata',\n",
       " '__class__',\n",
       " '__delattr__',\n",
       " '__dict__',\n",
       " '__dir__',\n",
       " '__doc__',\n",
       " '__eq__',\n",
       " '__format__',\n",
       " '__ge__',\n",
       " '__getattribute__',\n",
       " '__gt__',\n",
       " '__hash__',\n",
       " '__init__',\n",
       " '__init_subclass__',\n",
       " '__le__',\n",
       " '__lt__',\n",
       " '__module__',\n",
       " '__ne__',\n",
       " '__new__',\n",
       " '__reduce__',\n",
       " '__reduce_ex__',\n",
       " '__repr__',\n",
       " '__setattr__',\n",
       " '__sizeof__',\n",
       " '__str__',\n",
       " '__subclasshook__',\n",
       " '__weakref__',\n",
       " 'pes',\n",
       " 'volume']"
      ]
     },
     "execution_count": 88,
     "metadata": {},
     "output_type": "execute_result"
    }
   ],
   "source": [
    "# volume NO pertany a la classe !!\n",
    "cake.volume = 30\n",
    "dir(cake)"
   ]
  },
  {
   "cell_type": "code",
   "execution_count": 89,
   "id": "d57e0f45-0a25-49b1-af5c-9daaf6bafce7",
   "metadata": {
    "execution": {
     "iopub.execute_input": "2023-03-08T12:20:15.477504Z",
     "iopub.status.busy": "2023-03-08T12:20:15.476718Z",
     "iopub.status.idle": "2023-03-08T12:20:15.490794Z",
     "shell.execute_reply": "2023-03-08T12:20:15.488842Z",
     "shell.execute_reply.started": "2023-03-08T12:20:15.477437Z"
    },
    "tags": []
   },
   "outputs": [
    {
     "data": {
      "text/plain": [
       "['_Pastis__pes',\n",
       " '_Pastis__xocolata',\n",
       " '__class__',\n",
       " '__delattr__',\n",
       " '__dict__',\n",
       " '__dir__',\n",
       " '__doc__',\n",
       " '__eq__',\n",
       " '__format__',\n",
       " '__ge__',\n",
       " '__getattribute__',\n",
       " '__gt__',\n",
       " '__hash__',\n",
       " '__init__',\n",
       " '__init_subclass__',\n",
       " '__le__',\n",
       " '__lt__',\n",
       " '__module__',\n",
       " '__ne__',\n",
       " '__new__',\n",
       " '__reduce__',\n",
       " '__reduce_ex__',\n",
       " '__repr__',\n",
       " '__setattr__',\n",
       " '__sizeof__',\n",
       " '__str__',\n",
       " '__subclasshook__',\n",
       " '__weakref__',\n",
       " 'pes']"
      ]
     },
     "execution_count": 89,
     "metadata": {},
     "output_type": "execute_result"
    }
   ],
   "source": [
    "dir(cake2)"
   ]
  },
  {
   "cell_type": "code",
   "execution_count": 90,
   "id": "fab5c051-e17a-4821-a044-71bce9cf5306",
   "metadata": {
    "execution": {
     "iopub.execute_input": "2023-03-08T12:20:18.372665Z",
     "iopub.status.busy": "2023-03-08T12:20:18.371927Z",
     "iopub.status.idle": "2023-03-08T12:20:18.386133Z",
     "shell.execute_reply": "2023-03-08T12:20:18.384171Z",
     "shell.execute_reply.started": "2023-03-08T12:20:18.372599Z"
    },
    "tags": []
   },
   "outputs": [
    {
     "data": {
      "text/plain": [
       "['_Pastis__pes',\n",
       " '_Pastis__xocolata',\n",
       " '__class__',\n",
       " '__delattr__',\n",
       " '__dict__',\n",
       " '__dir__',\n",
       " '__doc__',\n",
       " '__eq__',\n",
       " '__format__',\n",
       " '__ge__',\n",
       " '__getattribute__',\n",
       " '__gt__',\n",
       " '__hash__',\n",
       " '__init__',\n",
       " '__init_subclass__',\n",
       " '__le__',\n",
       " '__lt__',\n",
       " '__module__',\n",
       " '__ne__',\n",
       " '__new__',\n",
       " '__reduce__',\n",
       " '__reduce_ex__',\n",
       " '__repr__',\n",
       " '__setattr__',\n",
       " '__sizeof__',\n",
       " '__str__',\n",
       " '__subclasshook__',\n",
       " '__weakref__',\n",
       " 'pes']"
      ]
     },
     "execution_count": 90,
     "metadata": {},
     "output_type": "execute_result"
    }
   ],
   "source": [
    "del(cake.volume)\n",
    "dir(cake)"
   ]
  },
  {
   "cell_type": "markdown",
   "id": "d2493039-dd39-4b66-8a37-b7e3a39c3032",
   "metadata": {},
   "source": [
    "#### Atributs creats fora d'__init__\n",
    "\n",
    "És recomanable crear els atributs al constructor __init__ i inicialitzar-los amb valors per defecte."
   ]
  },
  {
   "cell_type": "code",
   "execution_count": 134,
   "id": "fa1a1360-a21a-47d6-bfdb-3c3369cfdc2b",
   "metadata": {
    "execution": {
     "iopub.execute_input": "2023-03-08T12:52:46.734505Z",
     "iopub.status.busy": "2023-03-08T12:52:46.733767Z",
     "iopub.status.idle": "2023-03-08T12:52:46.749441Z",
     "shell.execute_reply": "2023-03-08T12:52:46.747696Z",
     "shell.execute_reply.started": "2023-03-08T12:52:46.734439Z"
    },
    "tags": []
   },
   "outputs": [],
   "source": [
    "## He de crear un setter\n",
    "#Encapsulació: protegim els atributs\n",
    "class Pastis:\n",
    "    def __init__(self, pes = 50, xocolata = False):\n",
    "        self.__pes = pes #privat\n",
    "        self.__xocolata = xocolata #privat\n",
    "    \n",
    "    def fornejar(self, temps = 10):\n",
    "        self.__temps = temps #creat en aquest mètdode (no a l'init)\n",
    "        print(f\"El pastís s'està fornejant per {temps} minuts...\")\n",
    "        \n",
    "    @property #getter (lectura)\n",
    "    def pes(self):\n",
    "        return self.__pes\n",
    "    \n",
    "    @pes.setter #setter (escriptura)\n",
    "    def pes(self, value):\n",
    "        if value > 0:\n",
    "            self.__pes = value\n",
    "    \n",
    "    @property\n",
    "    def xocolata(self):\n",
    "        return self.__xocolata\n",
    "    \n",
    "    @xocolata.setter\n",
    "    def xocolata(self, value):\n",
    "        if value is True or value is False:\n",
    "            self.__xocolata = value"
   ]
  },
  {
   "cell_type": "code",
   "execution_count": 120,
   "id": "4a9f6bff-9e4c-4e37-9e7a-35f36efe6ae1",
   "metadata": {
    "execution": {
     "iopub.execute_input": "2023-03-08T12:44:49.206533Z",
     "iopub.status.busy": "2023-03-08T12:44:49.205793Z",
     "iopub.status.idle": "2023-03-08T12:44:49.216617Z",
     "shell.execute_reply": "2023-03-08T12:44:49.214823Z",
     "shell.execute_reply.started": "2023-03-08T12:44:49.206468Z"
    },
    "tags": []
   },
   "outputs": [
    {
     "name": "stdout",
     "output_type": "stream",
     "text": [
      "El pastís s'està fornejant per 12 minuts...\n"
     ]
    }
   ],
   "source": [
    "cake = Pastis(75)\n",
    "cake.fornejar(12) ## Aquí es crea i s'inicialitza l'atribut temps"
   ]
  },
  {
   "cell_type": "markdown",
   "id": "80888351-9309-44f6-ba5f-cb410c5effd4",
   "metadata": {},
   "source": [
    "## Exercici:\n",
    "\n",
    "Procés de _xocolatejar_ els pastissos: tenim una bossa (llista) de pastissos sense xocolata, i hem de passar tots els pastissos pel procés de xocolatejar-los."
   ]
  },
  {
   "cell_type": "code",
   "execution_count": 135,
   "id": "dfb55096-d226-41f7-ba22-6a0f7063ec3b",
   "metadata": {
    "execution": {
     "iopub.execute_input": "2023-03-08T12:52:51.528677Z",
     "iopub.status.busy": "2023-03-08T12:52:51.527930Z",
     "iopub.status.idle": "2023-03-08T12:52:51.536951Z",
     "shell.execute_reply": "2023-03-08T12:52:51.535208Z",
     "shell.execute_reply.started": "2023-03-08T12:52:51.528610Z"
    },
    "tags": []
   },
   "outputs": [],
   "source": [
    "pastissos_sense_xoco = list()"
   ]
  },
  {
   "cell_type": "code",
   "execution_count": 136,
   "id": "ff0e131d-ae33-4314-99b5-ade919df7a62",
   "metadata": {
    "execution": {
     "iopub.execute_input": "2023-03-08T12:52:52.109433Z",
     "iopub.status.busy": "2023-03-08T12:52:52.108768Z",
     "iopub.status.idle": "2023-03-08T12:52:52.118979Z",
     "shell.execute_reply": "2023-03-08T12:52:52.117098Z",
     "shell.execute_reply.started": "2023-03-08T12:52:52.109373Z"
    },
    "tags": []
   },
   "outputs": [],
   "source": [
    "pastissos_sense_xoco.append(Pastis())\n",
    "pastissos_sense_xoco.append(Pastis())\n",
    "pastissos_sense_xoco.append(Pastis())\n",
    "pastissos_sense_xoco.append(Pastis())\n",
    "pastissos_sense_xoco.append(Pastis())"
   ]
  },
  {
   "cell_type": "code",
   "execution_count": 137,
   "id": "69876d47-29a1-480e-9cab-a765db2dcc07",
   "metadata": {
    "execution": {
     "iopub.execute_input": "2023-03-08T12:52:52.860502Z",
     "iopub.status.busy": "2023-03-08T12:52:52.859822Z",
     "iopub.status.idle": "2023-03-08T12:52:52.872130Z",
     "shell.execute_reply": "2023-03-08T12:52:52.870272Z",
     "shell.execute_reply.started": "2023-03-08T12:52:52.860438Z"
    },
    "tags": []
   },
   "outputs": [
    {
     "data": {
      "text/plain": [
       "5"
      ]
     },
     "execution_count": 137,
     "metadata": {},
     "output_type": "execute_result"
    }
   ],
   "source": [
    "len(pastissos_sense_xoco)"
   ]
  },
  {
   "cell_type": "code",
   "execution_count": 138,
   "id": "642eab68-d19b-47bb-815f-c70c632654f4",
   "metadata": {
    "execution": {
     "iopub.execute_input": "2023-03-08T12:52:53.710698Z",
     "iopub.status.busy": "2023-03-08T12:52:53.710054Z",
     "iopub.status.idle": "2023-03-08T12:52:53.719322Z",
     "shell.execute_reply": "2023-03-08T12:52:53.717473Z",
     "shell.execute_reply.started": "2023-03-08T12:52:53.710635Z"
    },
    "tags": []
   },
   "outputs": [],
   "source": [
    "def xocolatejar(pastis):\n",
    "    pastis.xocolata = True\n",
    "    return pastis"
   ]
  },
  {
   "cell_type": "code",
   "execution_count": 139,
   "id": "e825da52-7529-4bcc-b6fb-a114274c3884",
   "metadata": {
    "execution": {
     "iopub.execute_input": "2023-03-08T12:52:58.723192Z",
     "iopub.status.busy": "2023-03-08T12:52:58.722468Z",
     "iopub.status.idle": "2023-03-08T12:52:58.735828Z",
     "shell.execute_reply": "2023-03-08T12:52:58.733931Z",
     "shell.execute_reply.started": "2023-03-08T12:52:58.723127Z"
    },
    "tags": []
   },
   "outputs": [
    {
     "data": {
      "text/plain": [
       "[<__main__.Pastis at 0x7f9d3ef58cd0>,\n",
       " <__main__.Pastis at 0x7f9d3ef58a90>,\n",
       " <__main__.Pastis at 0x7f9d3ef58e50>,\n",
       " <__main__.Pastis at 0x7f9d3ef59a50>,\n",
       " <__main__.Pastis at 0x7f9d3ef591b0>]"
      ]
     },
     "execution_count": 139,
     "metadata": {},
     "output_type": "execute_result"
    }
   ],
   "source": [
    "list(map(xocolatejar, pastissos_sense_xoco))"
   ]
  },
  {
   "cell_type": "code",
   "execution_count": 140,
   "id": "184baf7e-92d8-44ef-a05a-4a2a8e8b422d",
   "metadata": {
    "execution": {
     "iopub.execute_input": "2023-03-08T12:53:01.923805Z",
     "iopub.status.busy": "2023-03-08T12:53:01.923083Z",
     "iopub.status.idle": "2023-03-08T12:53:01.934401Z",
     "shell.execute_reply": "2023-03-08T12:53:01.932189Z",
     "shell.execute_reply.started": "2023-03-08T12:53:01.923739Z"
    },
    "tags": []
   },
   "outputs": [
    {
     "name": "stdout",
     "output_type": "stream",
     "text": [
      "True\n",
      "True\n",
      "True\n",
      "True\n",
      "True\n"
     ]
    }
   ],
   "source": [
    "# La llista original ha estat modificada\n",
    "for pastis in pastissos_sense_xoco:\n",
    "    print(pastis.xocolata)"
   ]
  },
  {
   "cell_type": "markdown",
   "id": "a1d5c58c-0c30-4000-a0be-94c402eacfd2",
   "metadata": {},
   "source": [
    "#### Amb copy"
   ]
  },
  {
   "cell_type": "code",
   "execution_count": 141,
   "id": "d37d972b-233e-4f48-aa80-20e02e8d9f0d",
   "metadata": {
    "execution": {
     "iopub.execute_input": "2023-03-08T12:53:05.576288Z",
     "iopub.status.busy": "2023-03-08T12:53:05.575550Z",
     "iopub.status.idle": "2023-03-08T12:53:05.586918Z",
     "shell.execute_reply": "2023-03-08T12:53:05.585038Z",
     "shell.execute_reply.started": "2023-03-08T12:53:05.576221Z"
    },
    "tags": []
   },
   "outputs": [],
   "source": [
    "pastissos_sense_xoco = list()\n",
    "pastissos_sense_xoco.append(Pastis())\n",
    "pastissos_sense_xoco.append(Pastis())\n",
    "pastissos_sense_xoco.append(Pastis())\n",
    "pastissos_sense_xoco.append(Pastis())\n",
    "pastissos_sense_xoco.append(Pastis())"
   ]
  },
  {
   "cell_type": "code",
   "execution_count": 142,
   "id": "26f66f10-a3e7-478c-a31b-f274bc61d24f",
   "metadata": {
    "execution": {
     "iopub.execute_input": "2023-03-08T12:53:06.311421Z",
     "iopub.status.busy": "2023-03-08T12:53:06.310700Z",
     "iopub.status.idle": "2023-03-08T12:53:06.321755Z",
     "shell.execute_reply": "2023-03-08T12:53:06.319567Z",
     "shell.execute_reply.started": "2023-03-08T12:53:06.311356Z"
    },
    "tags": []
   },
   "outputs": [],
   "source": [
    "import copy\n",
    "def xocolatejar(pastis):\n",
    "    pastis_clonat = copy.copy(pastis)\n",
    "    pastis_clonat.xocolata = True\n",
    "    return pastis_clonat"
   ]
  },
  {
   "cell_type": "code",
   "execution_count": 143,
   "id": "cf1181d1-213b-47ba-bdf4-fe55d1bf660e",
   "metadata": {
    "execution": {
     "iopub.execute_input": "2023-03-08T12:53:08.762956Z",
     "iopub.status.busy": "2023-03-08T12:53:08.762234Z",
     "iopub.status.idle": "2023-03-08T12:53:08.772978Z",
     "shell.execute_reply": "2023-03-08T12:53:08.771025Z",
     "shell.execute_reply.started": "2023-03-08T12:53:08.762890Z"
    },
    "tags": []
   },
   "outputs": [],
   "source": [
    "pastissos_amb_xoco = list(map(xocolatejar, pastissos_sense_xoco))"
   ]
  },
  {
   "cell_type": "code",
   "execution_count": 144,
   "id": "8341591c-d86b-4b1a-99fa-a2a740ca33cd",
   "metadata": {
    "execution": {
     "iopub.execute_input": "2023-03-08T12:53:11.188149Z",
     "iopub.status.busy": "2023-03-08T12:53:11.187417Z",
     "iopub.status.idle": "2023-03-08T12:53:11.199701Z",
     "shell.execute_reply": "2023-03-08T12:53:11.197526Z",
     "shell.execute_reply.started": "2023-03-08T12:53:11.188083Z"
    },
    "tags": []
   },
   "outputs": [
    {
     "name": "stdout",
     "output_type": "stream",
     "text": [
      "False\n",
      "False\n",
      "False\n",
      "False\n",
      "False\n"
     ]
    }
   ],
   "source": [
    "for pastis in pastissos_sense_xoco:\n",
    "    print(pastis.xocolata)"
   ]
  },
  {
   "cell_type": "code",
   "execution_count": 145,
   "id": "3c194935-7c0c-4f16-bdb8-33cefab0ebd9",
   "metadata": {
    "execution": {
     "iopub.execute_input": "2023-03-08T12:53:13.412153Z",
     "iopub.status.busy": "2023-03-08T12:53:13.411338Z",
     "iopub.status.idle": "2023-03-08T12:53:13.421848Z",
     "shell.execute_reply": "2023-03-08T12:53:13.419991Z",
     "shell.execute_reply.started": "2023-03-08T12:53:13.412084Z"
    },
    "tags": []
   },
   "outputs": [
    {
     "name": "stdout",
     "output_type": "stream",
     "text": [
      "True\n",
      "True\n",
      "True\n",
      "True\n",
      "True\n"
     ]
    }
   ],
   "source": [
    "for pastis in pastissos_amb_xoco:\n",
    "    print(pastis.xocolata)"
   ]
  },
  {
   "cell_type": "code",
   "execution_count": 146,
   "id": "eff53a26-3197-4f65-a2d9-38a7652ed00c",
   "metadata": {
    "execution": {
     "iopub.execute_input": "2023-03-08T12:53:22.983611Z",
     "iopub.status.busy": "2023-03-08T12:53:22.982885Z",
     "iopub.status.idle": "2023-03-08T12:53:22.993931Z",
     "shell.execute_reply": "2023-03-08T12:53:22.992099Z",
     "shell.execute_reply.started": "2023-03-08T12:53:22.983545Z"
    },
    "tags": []
   },
   "outputs": [
    {
     "name": "stdout",
     "output_type": "stream",
     "text": [
      "<__main__.Pastis object at 0x7f9d3ef58c40>\n",
      "<__main__.Pastis object at 0x7f9d3ef58c10>\n",
      "<__main__.Pastis object at 0x7f9d3ef59750>\n",
      "<__main__.Pastis object at 0x7f9d3ef59990>\n",
      "<__main__.Pastis object at 0x7f9d3ef58b80>\n"
     ]
    }
   ],
   "source": [
    "for pastis in pastissos_amb_xoco:\n",
    "    print(pastis)"
   ]
  },
  {
   "cell_type": "markdown",
   "id": "7d8b75c5-0523-4610-a98a-bf091911be6f",
   "metadata": {},
   "source": [
    "### Si volem imprimir informació sobre el pastís\n",
    "\n",
    "**Sobreescriptura** del mètode màgic ``__str__``"
   ]
  },
  {
   "cell_type": "code",
   "execution_count": 129,
   "id": "9b8e4e97-455b-45b3-bc29-9527ecfac7c9",
   "metadata": {
    "execution": {
     "iopub.execute_input": "2023-03-08T12:50:32.953009Z",
     "iopub.status.busy": "2023-03-08T12:50:32.952263Z",
     "iopub.status.idle": "2023-03-08T12:50:32.969483Z",
     "shell.execute_reply": "2023-03-08T12:50:32.967603Z",
     "shell.execute_reply.started": "2023-03-08T12:50:32.952943Z"
    },
    "tags": []
   },
   "outputs": [],
   "source": [
    "## He de crear un setter\n",
    "#Encapsulació: protegim els atributs\n",
    "class Pastis:\n",
    "    @property #getter (lectura)\n",
    "    def pes(self):\n",
    "        return self.__pes\n",
    "    \n",
    "    @pes.setter #setter (escriptura)\n",
    "    def pes(self, value):\n",
    "        if value > 0:\n",
    "            self.__pes = value\n",
    "    \n",
    "    @property\n",
    "    def xocolata(self):\n",
    "        return self.__xocolata\n",
    "    \n",
    "    @xocolata.setter\n",
    "    def xocolata(self, value):\n",
    "        if value is True or value is False:\n",
    "            self.__xocolata = value\n",
    "    \n",
    "    def __init__(self, pes = 50, xocolata = False):\n",
    "        self.__pes = pes #privat\n",
    "        self.__xocolata = xocolata #privat\n",
    "    \n",
    "    def fornejar(self, temps = 10):\n",
    "        self.__temps = temps #creat en aquest mètdode (no a l'init)\n",
    "        print(f\"El pastís s'està fornejant per {temps} minuts...\")\n",
    "        \n",
    "    def __str__(self):\n",
    "        return f\"Pastís de pes {self.__pes} i xocolata = {self.__xocolata}\""
   ]
  },
  {
   "cell_type": "code",
   "execution_count": 131,
   "id": "60a30603-873e-436d-80b4-ed5a729acbd8",
   "metadata": {
    "execution": {
     "iopub.execute_input": "2023-03-08T12:51:46.164957Z",
     "iopub.status.busy": "2023-03-08T12:51:46.164401Z",
     "iopub.status.idle": "2023-03-08T12:51:46.173981Z",
     "shell.execute_reply": "2023-03-08T12:51:46.172661Z",
     "shell.execute_reply.started": "2023-03-08T12:51:46.164909Z"
    },
    "tags": []
   },
   "outputs": [],
   "source": [
    "pastissos_sense_xoco = list()\n",
    "pastissos_sense_xoco.append(Pastis())\n",
    "pastissos_sense_xoco.append(Pastis())\n",
    "pastissos_sense_xoco.append(Pastis())\n",
    "pastissos_sense_xoco.append(Pastis())\n",
    "pastissos_sense_xoco.append(Pastis())\n",
    "import copy\n",
    "def xocolatejar(pastis):\n",
    "    pastis_clonat = copy.copy(pastis)\n",
    "    pastis_clonat.xocolata = True\n",
    "    return pastis_clonat\n",
    "pastissos_amb_xoco = list(map(xocolatejar, pastissos_sense_xoco))\n"
   ]
  },
  {
   "cell_type": "code",
   "execution_count": 132,
   "id": "c997e21e-67e1-4435-8e5a-844e6f433399",
   "metadata": {
    "execution": {
     "iopub.execute_input": "2023-03-08T12:51:52.433248Z",
     "iopub.status.busy": "2023-03-08T12:51:52.432285Z",
     "iopub.status.idle": "2023-03-08T12:51:52.442656Z",
     "shell.execute_reply": "2023-03-08T12:51:52.440856Z",
     "shell.execute_reply.started": "2023-03-08T12:51:52.433179Z"
    },
    "tags": []
   },
   "outputs": [
    {
     "name": "stdout",
     "output_type": "stream",
     "text": [
      "Pastís de pes 50 i xocolata = False\n",
      "Pastís de pes 50 i xocolata = False\n",
      "Pastís de pes 50 i xocolata = False\n",
      "Pastís de pes 50 i xocolata = False\n",
      "Pastís de pes 50 i xocolata = False\n"
     ]
    }
   ],
   "source": [
    "for pastis in pastissos_sense_xoco:\n",
    "    print(pastis)"
   ]
  },
  {
   "cell_type": "code",
   "execution_count": 133,
   "id": "66261a1c-b030-4008-9b19-b5a840e9d6cb",
   "metadata": {
    "execution": {
     "iopub.execute_input": "2023-03-08T12:52:01.744969Z",
     "iopub.status.busy": "2023-03-08T12:52:01.743852Z",
     "iopub.status.idle": "2023-03-08T12:52:01.757085Z",
     "shell.execute_reply": "2023-03-08T12:52:01.755038Z",
     "shell.execute_reply.started": "2023-03-08T12:52:01.744864Z"
    },
    "tags": []
   },
   "outputs": [
    {
     "name": "stdout",
     "output_type": "stream",
     "text": [
      "Pastís de pes 50 i xocolata = True\n",
      "Pastís de pes 50 i xocolata = True\n",
      "Pastís de pes 50 i xocolata = True\n",
      "Pastís de pes 50 i xocolata = True\n",
      "Pastís de pes 50 i xocolata = True\n"
     ]
    }
   ],
   "source": [
    "for pastis in pastissos_amb_xoco:\n",
    "    print(pastis)"
   ]
  },
  {
   "cell_type": "markdown",
   "id": "4558f11a-d8e3-44d1-82ed-705fc0a66002",
   "metadata": {},
   "source": [
    "## Exercici: \n",
    "crear una llista de pastissos amb pesos variables i posar en una bossa diferent (llista diferent) aquells pastissos que pesin més de 100 grams.\n"
   ]
  },
  {
   "cell_type": "code",
   "execution_count": null,
   "id": "c79a2e81-4294-4e7c-b766-6a7c7a0a25ac",
   "metadata": {},
   "outputs": [],
   "source": []
  }
 ],
 "metadata": {
  "kernelspec": {
   "display_name": "Python 3",
   "language": "python",
   "name": "python3"
  },
  "language_info": {
   "codemirror_mode": {
    "name": "ipython",
    "version": 3
   },
   "file_extension": ".py",
   "mimetype": "text/x-python",
   "name": "python",
   "nbconvert_exporter": "python",
   "pygments_lexer": "ipython3",
   "version": "3.7.3"
  },
  "vscode": {
   "interpreter": {
    "hash": "bb480d8afc6d8919f189698c84f360c70ebe6aa4f7a48880ea75850b77998fbc"
   }
  }
 },
 "nbformat": 4,
 "nbformat_minor": 5
}
